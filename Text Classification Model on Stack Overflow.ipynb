{
  "nbformat": 4,
  "nbformat_minor": 0,
  "metadata": {
    "colab": {
      "provenance": [],
      "machine_shape": "hm"
    },
    "kernelspec": {
      "name": "python3",
      "display_name": "Python 3"
    },
    "language_info": {
      "name": "python"
    },
    "accelerator": "GPU",
    "gpuClass": "premium"
  },
  "cells": [
    {
      "cell_type": "code",
      "source": [
        "# !pip install tensorflow\n",
        "\n",
        "import tensorflow as tf \n",
        "import pandas as pd\n",
        "import numpy as np \n",
        "\n",
        "from sklearn.preprocessing import MultiLabelBinarizer\n",
        "from sklearn.utils import shuffle"
      ],
      "metadata": {
        "id": "TBEDA1nUC_2k"
      },
      "execution_count": 1,
      "outputs": []
    },
    {
      "cell_type": "code",
      "execution_count": 2,
      "metadata": {
        "id": "w6MmeBUBJ-9E"
      },
      "outputs": [],
      "source": [
        "# Authenticate to your cloud account\n",
        "from google.colab import auth\n",
        "from google.cloud import bigquery\n",
        "# from google.colab import data_table\n",
        "\n",
        "project = 'just-nova-382506'\n",
        "location = 'US' \n",
        "client = bigquery.Client(project=project, location=location)\n",
        "\n",
        "# data_table.disable_dataframe_formatter()\n",
        "auth.authenticate_user()"
      ]
    },
    {
      "cell_type": "code",
      "execution_count": 3,
      "metadata": {
        "colab": {
          "base_uri": "https://localhost:8080/"
        },
        "id": "UH4RrpyncgzQ",
        "outputId": "9bacf03c-5b23-42ad-b9c2-d365ecef54e8"
      },
      "outputs": [
        {
          "output_type": "stream",
          "name": "stdout",
          "text": [
            "SELECT original_tags, \n",
            "       REGEXP_REPLACE(text, \n",
            "       r\"(?:tensorflow|tf|keras|matplotlib|plt|pd|sklearn|pandas|scikit-learn)\", \n",
            "       \"apple\") as text\n",
            "FROM \n",
            "       (SELECT LOWER(CONCAT(title, \" \", REGEXP_REPLACE(body, r\"<[^>]*>\", \"\"))) AS text,\n",
            "              REPLACE(tags, \"|\", \",\") as original_tags\n",
            "       FROM `bigquery-public-data.stackoverflow.posts_questions`\n",
            "       WHERE REGEXP_CONTAINS(tags, r\"(?:tensorflow|keras|matplotlib|pandas|scikit-learn)\")) as results;\n"
          ]
        }
      ],
      "source": [
        "# Running this code will display the query used to generate your previous job\n",
        "\n",
        "job = client.get_job('bquxjob_116c7b5b_18748006925') # Job ID inserted based on the query results selected to explore\n",
        "print(job.query)"
      ]
    },
    {
      "cell_type": "code",
      "source": [
        "# Running this code will read results from your previous job\n",
        "\n",
        "job = client.get_job('bquxjob_116c7b5b_18748006925')\n",
        "results = job.to_dataframe()\n",
        "results"
      ],
      "metadata": {
        "colab": {
          "base_uri": "https://localhost:8080/",
          "height": 424
        },
        "id": "i-EHeG6HYJcv",
        "outputId": "06eda6e4-4783-4500-82a2-8628ad858209"
      },
      "execution_count": 42,
      "outputs": [
        {
          "output_type": "execute_result",
          "data": {
            "text/plain": [
              "                                            original_tags  \\\n",
              "0                                 python,numpy,matplotlib   \n",
              "1                           python,xcode,numpy,matplotlib   \n",
              "2                                       python,matplotlib   \n",
              "3                      python,performance,matplotlib,pyqt   \n",
              "4                                              matplotlib   \n",
              "...                                                   ...   \n",
              "439913                            python,pandas,dataframe   \n",
              "439914                          python,pandas,correlation   \n",
              "439915              python,tensorflow,conv-neural-network   \n",
              "439916                            python,pandas,dataframe   \n",
              "439917  python,neural-network,keras,prediction,sentime...   \n",
              "\n",
              "                                                     text  \n",
              "0       how to modify a numpy.recarray using its two v...  \n",
              "1       apple suddenly crashes after reinstalling xcod...  \n",
              "2       apple's gui doesn't allow typing in save box? ...  \n",
              "3       pyqt: splash screen while loading \"heavy\" libr...  \n",
              "4       apple: legend not displayed properly i have da...  \n",
              "...                                                   ...  \n",
              "439913  teach me the apple dataframe way to do this? i...  \n",
              "439914  partial correlation in python i ran a correlat...  \n",
              "439915  valueerror when calculating loss i got this va...  \n",
              "439916  how to keep track of different types of missin...  \n",
              "439917  why does neural network predict all input nega...  \n",
              "\n",
              "[439918 rows x 2 columns]"
            ],
            "text/html": [
              "\n",
              "  <div id=\"df-45713a61-8e76-42c7-b1b0-11a882994f71\">\n",
              "    <div class=\"colab-df-container\">\n",
              "      <div>\n",
              "<style scoped>\n",
              "    .dataframe tbody tr th:only-of-type {\n",
              "        vertical-align: middle;\n",
              "    }\n",
              "\n",
              "    .dataframe tbody tr th {\n",
              "        vertical-align: top;\n",
              "    }\n",
              "\n",
              "    .dataframe thead th {\n",
              "        text-align: right;\n",
              "    }\n",
              "</style>\n",
              "<table border=\"1\" class=\"dataframe\">\n",
              "  <thead>\n",
              "    <tr style=\"text-align: right;\">\n",
              "      <th></th>\n",
              "      <th>original_tags</th>\n",
              "      <th>text</th>\n",
              "    </tr>\n",
              "  </thead>\n",
              "  <tbody>\n",
              "    <tr>\n",
              "      <th>0</th>\n",
              "      <td>python,numpy,matplotlib</td>\n",
              "      <td>how to modify a numpy.recarray using its two v...</td>\n",
              "    </tr>\n",
              "    <tr>\n",
              "      <th>1</th>\n",
              "      <td>python,xcode,numpy,matplotlib</td>\n",
              "      <td>apple suddenly crashes after reinstalling xcod...</td>\n",
              "    </tr>\n",
              "    <tr>\n",
              "      <th>2</th>\n",
              "      <td>python,matplotlib</td>\n",
              "      <td>apple's gui doesn't allow typing in save box? ...</td>\n",
              "    </tr>\n",
              "    <tr>\n",
              "      <th>3</th>\n",
              "      <td>python,performance,matplotlib,pyqt</td>\n",
              "      <td>pyqt: splash screen while loading \"heavy\" libr...</td>\n",
              "    </tr>\n",
              "    <tr>\n",
              "      <th>4</th>\n",
              "      <td>matplotlib</td>\n",
              "      <td>apple: legend not displayed properly i have da...</td>\n",
              "    </tr>\n",
              "    <tr>\n",
              "      <th>...</th>\n",
              "      <td>...</td>\n",
              "      <td>...</td>\n",
              "    </tr>\n",
              "    <tr>\n",
              "      <th>439913</th>\n",
              "      <td>python,pandas,dataframe</td>\n",
              "      <td>teach me the apple dataframe way to do this? i...</td>\n",
              "    </tr>\n",
              "    <tr>\n",
              "      <th>439914</th>\n",
              "      <td>python,pandas,correlation</td>\n",
              "      <td>partial correlation in python i ran a correlat...</td>\n",
              "    </tr>\n",
              "    <tr>\n",
              "      <th>439915</th>\n",
              "      <td>python,tensorflow,conv-neural-network</td>\n",
              "      <td>valueerror when calculating loss i got this va...</td>\n",
              "    </tr>\n",
              "    <tr>\n",
              "      <th>439916</th>\n",
              "      <td>python,pandas,dataframe</td>\n",
              "      <td>how to keep track of different types of missin...</td>\n",
              "    </tr>\n",
              "    <tr>\n",
              "      <th>439917</th>\n",
              "      <td>python,neural-network,keras,prediction,sentime...</td>\n",
              "      <td>why does neural network predict all input nega...</td>\n",
              "    </tr>\n",
              "  </tbody>\n",
              "</table>\n",
              "<p>439918 rows × 2 columns</p>\n",
              "</div>\n",
              "      <button class=\"colab-df-convert\" onclick=\"convertToInteractive('df-45713a61-8e76-42c7-b1b0-11a882994f71')\"\n",
              "              title=\"Convert this dataframe to an interactive table.\"\n",
              "              style=\"display:none;\">\n",
              "        \n",
              "  <svg xmlns=\"http://www.w3.org/2000/svg\" height=\"24px\"viewBox=\"0 0 24 24\"\n",
              "       width=\"24px\">\n",
              "    <path d=\"M0 0h24v24H0V0z\" fill=\"none\"/>\n",
              "    <path d=\"M18.56 5.44l.94 2.06.94-2.06 2.06-.94-2.06-.94-.94-2.06-.94 2.06-2.06.94zm-11 1L8.5 8.5l.94-2.06 2.06-.94-2.06-.94L8.5 2.5l-.94 2.06-2.06.94zm10 10l.94 2.06.94-2.06 2.06-.94-2.06-.94-.94-2.06-.94 2.06-2.06.94z\"/><path d=\"M17.41 7.96l-1.37-1.37c-.4-.4-.92-.59-1.43-.59-.52 0-1.04.2-1.43.59L10.3 9.45l-7.72 7.72c-.78.78-.78 2.05 0 2.83L4 21.41c.39.39.9.59 1.41.59.51 0 1.02-.2 1.41-.59l7.78-7.78 2.81-2.81c.8-.78.8-2.07 0-2.86zM5.41 20L4 18.59l7.72-7.72 1.47 1.35L5.41 20z\"/>\n",
              "  </svg>\n",
              "      </button>\n",
              "      \n",
              "  <style>\n",
              "    .colab-df-container {\n",
              "      display:flex;\n",
              "      flex-wrap:wrap;\n",
              "      gap: 12px;\n",
              "    }\n",
              "\n",
              "    .colab-df-convert {\n",
              "      background-color: #E8F0FE;\n",
              "      border: none;\n",
              "      border-radius: 50%;\n",
              "      cursor: pointer;\n",
              "      display: none;\n",
              "      fill: #1967D2;\n",
              "      height: 32px;\n",
              "      padding: 0 0 0 0;\n",
              "      width: 32px;\n",
              "    }\n",
              "\n",
              "    .colab-df-convert:hover {\n",
              "      background-color: #E2EBFA;\n",
              "      box-shadow: 0px 1px 2px rgba(60, 64, 67, 0.3), 0px 1px 3px 1px rgba(60, 64, 67, 0.15);\n",
              "      fill: #174EA6;\n",
              "    }\n",
              "\n",
              "    [theme=dark] .colab-df-convert {\n",
              "      background-color: #3B4455;\n",
              "      fill: #D2E3FC;\n",
              "    }\n",
              "\n",
              "    [theme=dark] .colab-df-convert:hover {\n",
              "      background-color: #434B5C;\n",
              "      box-shadow: 0px 1px 3px 1px rgba(0, 0, 0, 0.15);\n",
              "      filter: drop-shadow(0px 1px 2px rgba(0, 0, 0, 0.3));\n",
              "      fill: #FFFFFF;\n",
              "    }\n",
              "  </style>\n",
              "\n",
              "      <script>\n",
              "        const buttonEl =\n",
              "          document.querySelector('#df-45713a61-8e76-42c7-b1b0-11a882994f71 button.colab-df-convert');\n",
              "        buttonEl.style.display =\n",
              "          google.colab.kernel.accessAllowed ? 'block' : 'none';\n",
              "\n",
              "        async function convertToInteractive(key) {\n",
              "          const element = document.querySelector('#df-45713a61-8e76-42c7-b1b0-11a882994f71');\n",
              "          const dataTable =\n",
              "            await google.colab.kernel.invokeFunction('convertToInteractive',\n",
              "                                                     [key], {});\n",
              "          if (!dataTable) return;\n",
              "\n",
              "          const docLinkHtml = 'Like what you see? Visit the ' +\n",
              "            '<a target=\"_blank\" href=https://colab.research.google.com/notebooks/data_table.ipynb>data table notebook</a>'\n",
              "            + ' to learn more about interactive tables.';\n",
              "          element.innerHTML = '';\n",
              "          dataTable['output_type'] = 'display_data';\n",
              "          await google.colab.output.renderOutput(dataTable, element);\n",
              "          const docLink = document.createElement('div');\n",
              "          docLink.innerHTML = docLinkHtml;\n",
              "          element.appendChild(docLink);\n",
              "        }\n",
              "      </script>\n",
              "    </div>\n",
              "  </div>\n",
              "  "
            ]
          },
          "metadata": {},
          "execution_count": 42
        }
      ]
    },
    {
      "cell_type": "code",
      "source": [
        "target=[\"tensorflow\",\"keras\",\"matplotlib\",\"pandas\",\"scikit-learn\"]\n",
        "results[\"tags\"]=results[\"original_tags\"].str.findall(r\"|\".join(target)).apply(\",\".join)"
      ],
      "metadata": {
        "id": "BL_rAaV-9zfj"
      },
      "execution_count": 43,
      "outputs": []
    },
    {
      "cell_type": "code",
      "source": [
        "results.head()\n",
        "results1=shuffle(results, random_state=22)\n",
        "results1.head()"
      ],
      "metadata": {
        "colab": {
          "base_uri": "https://localhost:8080/",
          "height": 760
        },
        "id": "KUepV49m-030",
        "outputId": "1fa0f99d-9b44-46fe-dc8f-ce75a1c8a8c0"
      },
      "execution_count": 46,
      "outputs": [
        {
          "output_type": "execute_result",
          "data": {
            "text/plain": [
              "                              original_tags  \\\n",
              "62312               python,tensorflow,keras   \n",
              "75401                         python,pandas   \n",
              "404914         python,csv,pandas,blank-line   \n",
              "377496                    python,keras,lstm   \n",
              "214578  python,string,pandas,list,dataframe   \n",
              "\n",
              "                                                     text              tags  \n",
              "62312   apple - concatenating two inputs of same 1st a...  tensorflow,keras  \n",
              "75401   find first occurence and get column name in co...            pandas  \n",
              "404914  how not to choose blank rows in python? i wrot...            pandas  \n",
              "377496  error on lstm input and target shapes i'm work...             keras  \n",
              "214578  convert list of strings to list of lists in py...            pandas  "
            ],
            "text/html": [
              "\n",
              "  <div id=\"df-0716056c-1516-4148-a0f2-8513bbce65f8\">\n",
              "    <div class=\"colab-df-container\">\n",
              "      <div>\n",
              "<style scoped>\n",
              "    .dataframe tbody tr th:only-of-type {\n",
              "        vertical-align: middle;\n",
              "    }\n",
              "\n",
              "    .dataframe tbody tr th {\n",
              "        vertical-align: top;\n",
              "    }\n",
              "\n",
              "    .dataframe thead th {\n",
              "        text-align: right;\n",
              "    }\n",
              "</style>\n",
              "<table border=\"1\" class=\"dataframe\">\n",
              "  <thead>\n",
              "    <tr style=\"text-align: right;\">\n",
              "      <th></th>\n",
              "      <th>original_tags</th>\n",
              "      <th>text</th>\n",
              "      <th>tags</th>\n",
              "    </tr>\n",
              "  </thead>\n",
              "  <tbody>\n",
              "    <tr>\n",
              "      <th>62312</th>\n",
              "      <td>python,tensorflow,keras</td>\n",
              "      <td>apple - concatenating two inputs of same 1st a...</td>\n",
              "      <td>tensorflow,keras</td>\n",
              "    </tr>\n",
              "    <tr>\n",
              "      <th>75401</th>\n",
              "      <td>python,pandas</td>\n",
              "      <td>find first occurence and get column name in co...</td>\n",
              "      <td>pandas</td>\n",
              "    </tr>\n",
              "    <tr>\n",
              "      <th>404914</th>\n",
              "      <td>python,csv,pandas,blank-line</td>\n",
              "      <td>how not to choose blank rows in python? i wrot...</td>\n",
              "      <td>pandas</td>\n",
              "    </tr>\n",
              "    <tr>\n",
              "      <th>377496</th>\n",
              "      <td>python,keras,lstm</td>\n",
              "      <td>error on lstm input and target shapes i'm work...</td>\n",
              "      <td>keras</td>\n",
              "    </tr>\n",
              "    <tr>\n",
              "      <th>214578</th>\n",
              "      <td>python,string,pandas,list,dataframe</td>\n",
              "      <td>convert list of strings to list of lists in py...</td>\n",
              "      <td>pandas</td>\n",
              "    </tr>\n",
              "  </tbody>\n",
              "</table>\n",
              "</div>\n",
              "      <button class=\"colab-df-convert\" onclick=\"convertToInteractive('df-0716056c-1516-4148-a0f2-8513bbce65f8')\"\n",
              "              title=\"Convert this dataframe to an interactive table.\"\n",
              "              style=\"display:none;\">\n",
              "        \n",
              "  <svg xmlns=\"http://www.w3.org/2000/svg\" height=\"24px\"viewBox=\"0 0 24 24\"\n",
              "       width=\"24px\">\n",
              "    <path d=\"M0 0h24v24H0V0z\" fill=\"none\"/>\n",
              "    <path d=\"M18.56 5.44l.94 2.06.94-2.06 2.06-.94-2.06-.94-.94-2.06-.94 2.06-2.06.94zm-11 1L8.5 8.5l.94-2.06 2.06-.94-2.06-.94L8.5 2.5l-.94 2.06-2.06.94zm10 10l.94 2.06.94-2.06 2.06-.94-2.06-.94-.94-2.06-.94 2.06-2.06.94z\"/><path d=\"M17.41 7.96l-1.37-1.37c-.4-.4-.92-.59-1.43-.59-.52 0-1.04.2-1.43.59L10.3 9.45l-7.72 7.72c-.78.78-.78 2.05 0 2.83L4 21.41c.39.39.9.59 1.41.59.51 0 1.02-.2 1.41-.59l7.78-7.78 2.81-2.81c.8-.78.8-2.07 0-2.86zM5.41 20L4 18.59l7.72-7.72 1.47 1.35L5.41 20z\"/>\n",
              "  </svg>\n",
              "      </button>\n",
              "      \n",
              "  <style>\n",
              "    .colab-df-container {\n",
              "      display:flex;\n",
              "      flex-wrap:wrap;\n",
              "      gap: 12px;\n",
              "    }\n",
              "\n",
              "    .colab-df-convert {\n",
              "      background-color: #E8F0FE;\n",
              "      border: none;\n",
              "      border-radius: 50%;\n",
              "      cursor: pointer;\n",
              "      display: none;\n",
              "      fill: #1967D2;\n",
              "      height: 32px;\n",
              "      padding: 0 0 0 0;\n",
              "      width: 32px;\n",
              "    }\n",
              "\n",
              "    .colab-df-convert:hover {\n",
              "      background-color: #E2EBFA;\n",
              "      box-shadow: 0px 1px 2px rgba(60, 64, 67, 0.3), 0px 1px 3px 1px rgba(60, 64, 67, 0.15);\n",
              "      fill: #174EA6;\n",
              "    }\n",
              "\n",
              "    [theme=dark] .colab-df-convert {\n",
              "      background-color: #3B4455;\n",
              "      fill: #D2E3FC;\n",
              "    }\n",
              "\n",
              "    [theme=dark] .colab-df-convert:hover {\n",
              "      background-color: #434B5C;\n",
              "      box-shadow: 0px 1px 3px 1px rgba(0, 0, 0, 0.15);\n",
              "      filter: drop-shadow(0px 1px 2px rgba(0, 0, 0, 0.3));\n",
              "      fill: #FFFFFF;\n",
              "    }\n",
              "  </style>\n",
              "\n",
              "      <script>\n",
              "        const buttonEl =\n",
              "          document.querySelector('#df-0716056c-1516-4148-a0f2-8513bbce65f8 button.colab-df-convert');\n",
              "        buttonEl.style.display =\n",
              "          google.colab.kernel.accessAllowed ? 'block' : 'none';\n",
              "\n",
              "        async function convertToInteractive(key) {\n",
              "          const element = document.querySelector('#df-0716056c-1516-4148-a0f2-8513bbce65f8');\n",
              "          const dataTable =\n",
              "            await google.colab.kernel.invokeFunction('convertToInteractive',\n",
              "                                                     [key], {});\n",
              "          if (!dataTable) return;\n",
              "\n",
              "          const docLinkHtml = 'Like what you see? Visit the ' +\n",
              "            '<a target=\"_blank\" href=https://colab.research.google.com/notebooks/data_table.ipynb>data table notebook</a>'\n",
              "            + ' to learn more about interactive tables.';\n",
              "          element.innerHTML = '';\n",
              "          dataTable['output_type'] = 'display_data';\n",
              "          await google.colab.output.renderOutput(dataTable, element);\n",
              "          const docLink = document.createElement('div');\n",
              "          docLink.innerHTML = docLinkHtml;\n",
              "          element.appendChild(docLink);\n",
              "        }\n",
              "      </script>\n",
              "    </div>\n",
              "  </div>\n",
              "  "
            ]
          },
          "metadata": {},
          "execution_count": 46
        }
      ]
    },
    {
      "cell_type": "code",
      "source": [
        "#data = pd.DataFrame(data=results)\n",
        "data= results.drop(columns=['original_tags'])\n",
        "data=data.dropna()\n",
        "data = shuffle(data, random_state=22)\n",
        "data"
      ],
      "metadata": {
        "colab": {
          "base_uri": "https://localhost:8080/",
          "height": 424
        },
        "id": "JzHBucvndXfZ",
        "outputId": "a52f7d8d-7fe9-4974-a60b-4470419289b6"
      },
      "execution_count": 47,
      "outputs": [
        {
          "output_type": "execute_result",
          "data": {
            "text/plain": [
              "                                                     text                 tags\n",
              "62312   apple - concatenating two inputs of same 1st a...     tensorflow,keras\n",
              "75401   find first occurence and get column name in co...               pandas\n",
              "404914  how not to choose blank rows in python? i wrot...               pandas\n",
              "377496  error on lstm input and target shapes i'm work...                keras\n",
              "214578  convert list of strings to list of lists in py...               pandas\n",
              "...                                                   ...                  ...\n",
              "120166  adding dataframe columns from existing row dat...               pandas\n",
              "24932   colormesh and plot pictures with the same basi...           matplotlib\n",
              "162752  logistic regression test input format help in ...  pandas,scikit-learn\n",
              "252036  overlaying lines in apple graph? i'm trying to...           matplotlib\n",
              "371573  overtraining with imbalanced data i am trying ...         scikit-learn\n",
              "\n",
              "[439918 rows x 2 columns]"
            ],
            "text/html": [
              "\n",
              "  <div id=\"df-acfb511e-80ec-46dc-a0cc-cf72d0a1f3ec\">\n",
              "    <div class=\"colab-df-container\">\n",
              "      <div>\n",
              "<style scoped>\n",
              "    .dataframe tbody tr th:only-of-type {\n",
              "        vertical-align: middle;\n",
              "    }\n",
              "\n",
              "    .dataframe tbody tr th {\n",
              "        vertical-align: top;\n",
              "    }\n",
              "\n",
              "    .dataframe thead th {\n",
              "        text-align: right;\n",
              "    }\n",
              "</style>\n",
              "<table border=\"1\" class=\"dataframe\">\n",
              "  <thead>\n",
              "    <tr style=\"text-align: right;\">\n",
              "      <th></th>\n",
              "      <th>text</th>\n",
              "      <th>tags</th>\n",
              "    </tr>\n",
              "  </thead>\n",
              "  <tbody>\n",
              "    <tr>\n",
              "      <th>62312</th>\n",
              "      <td>apple - concatenating two inputs of same 1st a...</td>\n",
              "      <td>tensorflow,keras</td>\n",
              "    </tr>\n",
              "    <tr>\n",
              "      <th>75401</th>\n",
              "      <td>find first occurence and get column name in co...</td>\n",
              "      <td>pandas</td>\n",
              "    </tr>\n",
              "    <tr>\n",
              "      <th>404914</th>\n",
              "      <td>how not to choose blank rows in python? i wrot...</td>\n",
              "      <td>pandas</td>\n",
              "    </tr>\n",
              "    <tr>\n",
              "      <th>377496</th>\n",
              "      <td>error on lstm input and target shapes i'm work...</td>\n",
              "      <td>keras</td>\n",
              "    </tr>\n",
              "    <tr>\n",
              "      <th>214578</th>\n",
              "      <td>convert list of strings to list of lists in py...</td>\n",
              "      <td>pandas</td>\n",
              "    </tr>\n",
              "    <tr>\n",
              "      <th>...</th>\n",
              "      <td>...</td>\n",
              "      <td>...</td>\n",
              "    </tr>\n",
              "    <tr>\n",
              "      <th>120166</th>\n",
              "      <td>adding dataframe columns from existing row dat...</td>\n",
              "      <td>pandas</td>\n",
              "    </tr>\n",
              "    <tr>\n",
              "      <th>24932</th>\n",
              "      <td>colormesh and plot pictures with the same basi...</td>\n",
              "      <td>matplotlib</td>\n",
              "    </tr>\n",
              "    <tr>\n",
              "      <th>162752</th>\n",
              "      <td>logistic regression test input format help in ...</td>\n",
              "      <td>pandas,scikit-learn</td>\n",
              "    </tr>\n",
              "    <tr>\n",
              "      <th>252036</th>\n",
              "      <td>overlaying lines in apple graph? i'm trying to...</td>\n",
              "      <td>matplotlib</td>\n",
              "    </tr>\n",
              "    <tr>\n",
              "      <th>371573</th>\n",
              "      <td>overtraining with imbalanced data i am trying ...</td>\n",
              "      <td>scikit-learn</td>\n",
              "    </tr>\n",
              "  </tbody>\n",
              "</table>\n",
              "<p>439918 rows × 2 columns</p>\n",
              "</div>\n",
              "      <button class=\"colab-df-convert\" onclick=\"convertToInteractive('df-acfb511e-80ec-46dc-a0cc-cf72d0a1f3ec')\"\n",
              "              title=\"Convert this dataframe to an interactive table.\"\n",
              "              style=\"display:none;\">\n",
              "        \n",
              "  <svg xmlns=\"http://www.w3.org/2000/svg\" height=\"24px\"viewBox=\"0 0 24 24\"\n",
              "       width=\"24px\">\n",
              "    <path d=\"M0 0h24v24H0V0z\" fill=\"none\"/>\n",
              "    <path d=\"M18.56 5.44l.94 2.06.94-2.06 2.06-.94-2.06-.94-.94-2.06-.94 2.06-2.06.94zm-11 1L8.5 8.5l.94-2.06 2.06-.94-2.06-.94L8.5 2.5l-.94 2.06-2.06.94zm10 10l.94 2.06.94-2.06 2.06-.94-2.06-.94-.94-2.06-.94 2.06-2.06.94z\"/><path d=\"M17.41 7.96l-1.37-1.37c-.4-.4-.92-.59-1.43-.59-.52 0-1.04.2-1.43.59L10.3 9.45l-7.72 7.72c-.78.78-.78 2.05 0 2.83L4 21.41c.39.39.9.59 1.41.59.51 0 1.02-.2 1.41-.59l7.78-7.78 2.81-2.81c.8-.78.8-2.07 0-2.86zM5.41 20L4 18.59l7.72-7.72 1.47 1.35L5.41 20z\"/>\n",
              "  </svg>\n",
              "      </button>\n",
              "      \n",
              "  <style>\n",
              "    .colab-df-container {\n",
              "      display:flex;\n",
              "      flex-wrap:wrap;\n",
              "      gap: 12px;\n",
              "    }\n",
              "\n",
              "    .colab-df-convert {\n",
              "      background-color: #E8F0FE;\n",
              "      border: none;\n",
              "      border-radius: 50%;\n",
              "      cursor: pointer;\n",
              "      display: none;\n",
              "      fill: #1967D2;\n",
              "      height: 32px;\n",
              "      padding: 0 0 0 0;\n",
              "      width: 32px;\n",
              "    }\n",
              "\n",
              "    .colab-df-convert:hover {\n",
              "      background-color: #E2EBFA;\n",
              "      box-shadow: 0px 1px 2px rgba(60, 64, 67, 0.3), 0px 1px 3px 1px rgba(60, 64, 67, 0.15);\n",
              "      fill: #174EA6;\n",
              "    }\n",
              "\n",
              "    [theme=dark] .colab-df-convert {\n",
              "      background-color: #3B4455;\n",
              "      fill: #D2E3FC;\n",
              "    }\n",
              "\n",
              "    [theme=dark] .colab-df-convert:hover {\n",
              "      background-color: #434B5C;\n",
              "      box-shadow: 0px 1px 3px 1px rgba(0, 0, 0, 0.15);\n",
              "      filter: drop-shadow(0px 1px 2px rgba(0, 0, 0, 0.3));\n",
              "      fill: #FFFFFF;\n",
              "    }\n",
              "  </style>\n",
              "\n",
              "      <script>\n",
              "        const buttonEl =\n",
              "          document.querySelector('#df-acfb511e-80ec-46dc-a0cc-cf72d0a1f3ec button.colab-df-convert');\n",
              "        buttonEl.style.display =\n",
              "          google.colab.kernel.accessAllowed ? 'block' : 'none';\n",
              "\n",
              "        async function convertToInteractive(key) {\n",
              "          const element = document.querySelector('#df-acfb511e-80ec-46dc-a0cc-cf72d0a1f3ec');\n",
              "          const dataTable =\n",
              "            await google.colab.kernel.invokeFunction('convertToInteractive',\n",
              "                                                     [key], {});\n",
              "          if (!dataTable) return;\n",
              "\n",
              "          const docLinkHtml = 'Like what you see? Visit the ' +\n",
              "            '<a target=\"_blank\" href=https://colab.research.google.com/notebooks/data_table.ipynb>data table notebook</a>'\n",
              "            + ' to learn more about interactive tables.';\n",
              "          element.innerHTML = '';\n",
              "          dataTable['output_type'] = 'display_data';\n",
              "          await google.colab.output.renderOutput(dataTable, element);\n",
              "          const docLink = document.createElement('div');\n",
              "          docLink.innerHTML = docLinkHtml;\n",
              "          element.appendChild(docLink);\n",
              "        }\n",
              "      </script>\n",
              "    </div>\n",
              "  </div>\n",
              "  "
            ]
          },
          "metadata": {},
          "execution_count": 47
        }
      ]
    },
    {
      "cell_type": "code",
      "source": [
        "# Encode top tags to multi-hot\n",
        "tags_split = [tags.split(',') for tags in data['tags'].values]\n",
        "# print(tags_split, '\\n')\n",
        "# tags_split"
      ],
      "metadata": {
        "id": "5ocxeV_eYTXY"
      },
      "execution_count": 31,
      "outputs": []
    },
    {
      "cell_type": "code",
      "source": [
        "tag_encoder = MultiLabelBinarizer()\n",
        "tags_encoded = tag_encoder.fit_transform(tags_split)\n",
        "num_tags = len(tags_encoded[0])\n",
        "print(data['tags'].values[0])\n",
        "print(tag_encoder.classes_)\n",
        "print(tags_encoded[0])"
      ],
      "metadata": {
        "id": "kjs48BK7euVT",
        "colab": {
          "base_uri": "https://localhost:8080/"
        },
        "outputId": "dc99c73c-c32b-4eee-9bb8-acc8702f4ba3"
      },
      "execution_count": 49,
      "outputs": [
        {
          "output_type": "stream",
          "name": "stdout",
          "text": [
            "tensorflow,keras\n",
            "['keras' 'matplotlib' 'pandas' 'scikit-learn' 'tensorflow']\n",
            "[1 0 0 0 1]\n"
          ]
        }
      ]
    },
    {
      "cell_type": "code",
      "source": [
        "# Split our data into train and test sets\n",
        "train_size = int(len(data) * .8)\n",
        "print (\"Train size: %d\" % train_size)\n",
        "print (\"Test size: %d\" % (len(data) - train_size))"
      ],
      "metadata": {
        "colab": {
          "base_uri": "https://localhost:8080/"
        },
        "id": "ntKRWgA5eyLg",
        "outputId": "6c78959f-a75b-4c9b-fa35-53630ffa84de"
      },
      "execution_count": 27,
      "outputs": [
        {
          "output_type": "stream",
          "name": "stdout",
          "text": [
            "Train size: 351934\n",
            "Test size: 87984\n"
          ]
        }
      ]
    },
    {
      "cell_type": "code",
      "source": [
        "# Split our labels into train and test sets\n",
        "train_tags = tags_encoded[:train_size]\n",
        "test_tags = tags_encoded[train_size:]"
      ],
      "metadata": {
        "id": "3fpRZlDfeyzz"
      },
      "execution_count": 28,
      "outputs": []
    },
    {
      "cell_type": "code",
      "source": [
        "# Pre-processing data: create our tokenizer class\n",
        "%%writefile preprocess.py\n",
        "\n",
        "from tensorflow.keras.preprocessing import text\n",
        "\n",
        "class TextPreprocessor(object):\n",
        "  def __init__(self, vocab_size):\n",
        "    self._vocab_size = vocab_size\n",
        "    self._tokenizer = None\n",
        "  \n",
        "  def create_tokenizer(self, text_list):\n",
        "    tokenizer = text.Tokenizer(num_words=self._vocab_size)\n",
        "    tokenizer.fit_on_texts(text_list)\n",
        "    self._tokenizer = tokenizer\n",
        "\n",
        "  def transform_text(self, text_list):\n",
        "    text_matrix = self._tokenizer.texts_to_matrix(text_list)\n",
        "    return text_matrix"
      ],
      "metadata": {
        "colab": {
          "base_uri": "https://localhost:8080/"
        },
        "id": "1NIxzbOme9id",
        "outputId": "98996934-6695-4e94-f5da-e8667d4c024c"
      },
      "execution_count": 29,
      "outputs": [
        {
          "output_type": "stream",
          "name": "stdout",
          "text": [
            "Overwriting preprocess.py\n"
          ]
        }
      ]
    },
    {
      "cell_type": "code",
      "source": [
        "# Create vocab from training corpus\n",
        "from preprocess import TextPreprocessor\n",
        "\n",
        "VOCAB_SIZE=400 # This is a hyperparameter\n",
        "\n",
        "train_qs = data['text'].values[:train_size]\n",
        "test_qs = data['text'].values[train_size:]\n",
        "\n",
        "processor = TextPreprocessor(VOCAB_SIZE)\n",
        "processor.create_tokenizer(train_qs)\n",
        "\n",
        "body_train = processor.transform_text(train_qs)\n",
        "body_test = processor.transform_text(test_qs)"
      ],
      "metadata": {
        "id": "dDN1ClBMe_qh"
      },
      "execution_count": 30,
      "outputs": []
    },
    {
      "cell_type": "code",
      "source": [
        "# Preview the first input from our training data\n",
        "print(len(body_train[0]))\n",
        "print(body_train[0])"
      ],
      "metadata": {
        "colab": {
          "base_uri": "https://localhost:8080/"
        },
        "id": "NO43K4lEfD1X",
        "outputId": "c1ff85fe-7c3d-4593-edaf-8e01f3e2aeed"
      },
      "execution_count": 32,
      "outputs": [
        {
          "output_type": "stream",
          "name": "stdout",
          "text": [
            "400\n",
            "[0. 1. 1. 1. 1. 0. 1. 1. 1. 1. 1. 1. 0. 1. 1. 1. 0. 1. 1. 1. 1. 1. 0. 1.\n",
            " 0. 0. 1. 0. 0. 0. 0. 0. 1. 0. 0. 0. 1. 0. 0. 1. 1. 1. 0. 0. 0. 0. 0. 0.\n",
            " 0. 0. 0. 0. 0. 0. 1. 1. 1. 1. 0. 0. 0. 1. 0. 0. 0. 1. 0. 0. 1. 1. 0. 0.\n",
            " 0. 0. 0. 0. 0. 0. 0. 1. 1. 0. 1. 0. 0. 1. 0. 1. 0. 0. 0. 0. 0. 0. 0. 0.\n",
            " 0. 0. 0. 0. 1. 0. 0. 0. 0. 0. 0. 1. 1. 0. 0. 1. 0. 0. 0. 0. 0. 0. 0. 0.\n",
            " 0. 0. 0. 0. 0. 0. 0. 0. 0. 0. 0. 0. 0. 0. 0. 1. 0. 0. 0. 1. 0. 0. 0. 1.\n",
            " 0. 0. 0. 0. 0. 0. 0. 0. 0. 0. 0. 0. 1. 0. 1. 0. 0. 0. 0. 0. 0. 0. 0. 0.\n",
            " 0. 0. 0. 0. 0. 1. 0. 0. 0. 0. 0. 0. 0. 0. 0. 0. 0. 0. 0. 1. 0. 0. 0. 0.\n",
            " 0. 0. 0. 0. 0. 1. 0. 0. 0. 0. 0. 0. 0. 0. 0. 0. 0. 0. 0. 0. 0. 0. 0. 0.\n",
            " 0. 0. 0. 0. 0. 0. 0. 0. 0. 0. 0. 0. 0. 0. 0. 0. 0. 0. 0. 0. 0. 0. 0. 1.\n",
            " 0. 0. 0. 0. 0. 0. 0. 0. 0. 0. 0. 0. 0. 0. 0. 0. 0. 0. 0. 0. 0. 0. 0. 0.\n",
            " 0. 0. 0. 0. 0. 0. 0. 0. 0. 0. 0. 0. 0. 0. 1. 0. 0. 1. 0. 0. 0. 1. 0. 0.\n",
            " 0. 0. 0. 0. 0. 0. 0. 0. 0. 0. 0. 0. 0. 1. 0. 0. 1. 0. 0. 0. 0. 0. 0. 0.\n",
            " 1. 0. 0. 0. 0. 0. 0. 0. 1. 0. 0. 0. 0. 0. 0. 0. 1. 0. 1. 0. 0. 0. 0. 0.\n",
            " 0. 0. 0. 1. 0. 0. 0. 0. 0. 0. 0. 0. 0. 0. 0. 0. 0. 0. 0. 0. 0. 0. 0. 0.\n",
            " 0. 0. 0. 0. 0. 0. 1. 1. 1. 0. 0. 0. 0. 0. 0. 0. 0. 0. 0. 0. 0. 0. 0. 1.\n",
            " 0. 0. 0. 0. 0. 0. 0. 0. 1. 0. 0. 0. 0. 0. 0. 0.]\n"
          ]
        }
      ]
    },
    {
      "cell_type": "markdown",
      "source": [
        "# Building and training our model"
      ],
      "metadata": {
        "id": "GzzDHEuHfHPI"
      }
    },
    {
      "cell_type": "code",
      "source": [
        "# Save the processor state of the tokenizer\n",
        "import pickle\n",
        "\n",
        "with open('./processor_state.pkl', 'wb') as f:\n",
        "  pickle.dump(processor, f)"
      ],
      "metadata": {
        "id": "WpDHZcimfD7P"
      },
      "execution_count": 33,
      "outputs": []
    },
    {
      "cell_type": "code",
      "source": [
        "def create_model(vocab_size, num_tags):\n",
        "  \n",
        "  model = tf.keras.models.Sequential()\n",
        "  model.add(tf.keras.layers.Dense(50, input_shape=(VOCAB_SIZE,), activation='relu'))\n",
        "  model.add(tf.keras.layers.Dense(25, activation='relu'))\n",
        "  model.add(tf.keras.layers.Dense(num_tags, activation='sigmoid'))\n",
        "\n",
        "  model.compile(loss='binary_crossentropy', optimizer='adam', metrics=['accuracy'])\n",
        "  return model"
      ],
      "metadata": {
        "id": "Co-iG5qFfN66"
      },
      "execution_count": 34,
      "outputs": []
    },
    {
      "cell_type": "code",
      "source": [
        "model = create_model(VOCAB_SIZE, num_tags)\n",
        "model.summary()\n",
        "\n",
        "# Train and evaluate the model\n",
        "model.fit(body_train, train_tags, epochs=3, batch_size=128, validation_split=0.1)\n",
        "print('Eval loss/accuracy:{}'.format(\n",
        "  model.evaluate(body_test, test_tags, batch_size=128)))\n",
        "\n",
        "# Export the model to a file\n",
        "model.save('keras_saved_model.h5')"
      ],
      "metadata": {
        "colab": {
          "base_uri": "https://localhost:8080/"
        },
        "id": "TZKDKAxtfPv4",
        "outputId": "9f4d8d49-0225-4fdf-989b-078af0a7dfcf"
      },
      "execution_count": 35,
      "outputs": [
        {
          "output_type": "stream",
          "name": "stdout",
          "text": [
            "Model: \"sequential_1\"\n",
            "_________________________________________________________________\n",
            " Layer (type)                Output Shape              Param #   \n",
            "=================================================================\n",
            " dense_3 (Dense)             (None, 50)                20050     \n",
            "                                                                 \n",
            " dense_4 (Dense)             (None, 25)                1275      \n",
            "                                                                 \n",
            " dense_5 (Dense)             (None, 5)                 130       \n",
            "                                                                 \n",
            "=================================================================\n",
            "Total params: 21,455\n",
            "Trainable params: 21,455\n",
            "Non-trainable params: 0\n",
            "_________________________________________________________________\n",
            "Epoch 1/3\n",
            "2475/2475 [==============================] - 9s 3ms/step - loss: 0.1319 - accuracy: 0.8528 - val_loss: 0.1084 - val_accuracy: 0.8806\n",
            "Epoch 2/3\n",
            "2475/2475 [==============================] - 7s 3ms/step - loss: 0.1065 - accuracy: 0.8755 - val_loss: 0.1057 - val_accuracy: 0.8682\n",
            "Epoch 3/3\n",
            "2475/2475 [==============================] - 7s 3ms/step - loss: 0.1028 - accuracy: 0.8778 - val_loss: 0.1038 - val_accuracy: 0.8734\n",
            "688/688 [==============================] - 1s 2ms/step - loss: 0.1050 - accuracy: 0.8713\n",
            "Eval loss/accuracy:[0.10499855875968933, 0.8713402152061462]\n"
          ]
        }
      ]
    },
    {
      "cell_type": "markdown",
      "source": [
        "# Test our model locally"
      ],
      "metadata": {
        "id": "QhZBaCT8fUti"
      }
    },
    {
      "cell_type": "code",
      "source": [
        "# Use custom model prediction to save our model + tokenizer\n",
        "%%writefile model_prediction.py\n",
        "import pickle\n",
        "import os\n",
        "import numpy as np\n",
        "\n",
        "class CustomModelPrediction(object):\n",
        "\n",
        "  def __init__(self, model, processor):\n",
        "    self._model = model\n",
        "    self._processor = processor\n",
        "  \n",
        "  def predict(self, instances, **kwargs):\n",
        "    preprocessed_data = self._processor.transform_text(instances)\n",
        "    predictions = self._model.predict(preprocessed_data)\n",
        "    return predictions.tolist()\n",
        "\n",
        "  @classmethod\n",
        "  def from_path(cls, model_dir):\n",
        "    import tensorflow.keras as keras\n",
        "    model = keras.models.load_model(\n",
        "      os.path.join(model_dir,'keras_saved_model.h5'))\n",
        "    with open(os.path.join(model_dir, 'processor_state.pkl'), 'rb') as f:\n",
        "      processor = pickle.load(f)\n",
        "\n",
        "    return cls(model, processor)"
      ],
      "metadata": {
        "id": "nJY2zKM9fSTk",
        "colab": {
          "base_uri": "https://localhost:8080/"
        },
        "outputId": "1aefbee8-fbe8-4b1e-ca54-d606599693b3"
      },
      "execution_count": 36,
      "outputs": [
        {
          "output_type": "stream",
          "name": "stdout",
          "text": [
            "Writing model_prediction.py\n"
          ]
        }
      ]
    },
    {
      "cell_type": "code",
      "source": [
        "test_requests = [\n",
        "  \"Tensor('args_0:0', shape=(), dtype=string), type: <class 'tensorflow.python.framework.ops.Tensor'>, valid types: <class 'str'> I have been trying to run this code for making image datasets by tensorflow(2.12.0) with images in AWS S3 bucket. But I am getting this error when trying to execute it. ParamValidationError: Parameter validation failed: Invalid type for parameter Key, value: Tensor('args_0:0', shape=(), dtype=string), type: <class 'tensorflow.python.framework.ops.Tensor'>, valid types: <class 'str'>\",\n",
        "  \"I am looking for a way to resample 5min data to 4hr data with the same 4hr intervals ie. 0:00 , 4:00,8:00 regardless of the start. There is an offset parameter but this doesn't allow me to set the intervals and I am unsure how i would calculate this offset on the fly for different starting times. data_4hr = df.resample('4H', origin='end').agg(  OrderedDict([ ('Open', 'first'), ('High', 'max'), ('Low', 'min'), ('Close', 'last')) )\"\n",
        "]"
      ],
      "metadata": {
        "id": "7sAAnaYXfbHw"
      },
      "execution_count": 74,
      "outputs": []
    },
    {
      "cell_type": "code",
      "source": [
        "from model_prediction import CustomModelPrediction\n",
        "\n",
        "classifier = CustomModelPrediction.from_path('.')\n",
        "results = classifier.predict(test_requests)\n",
        "print(results)\n",
        "\n",
        "for i in range(len(results)):\n",
        "  print('Predicted labels:')\n",
        "  for idx,val in enumerate(results[i]):\n",
        "    if val > 0.7:\n",
        "      print(tag_encoder.classes_[idx])\n",
        "  print('\\n')"
      ],
      "metadata": {
        "id": "5sjq3wBMfbk9",
        "colab": {
          "base_uri": "https://localhost:8080/"
        },
        "outputId": "42be948b-3830-4075-e3c4-760a09540e6d"
      },
      "execution_count": 75,
      "outputs": [
        {
          "output_type": "stream",
          "name": "stdout",
          "text": [
            "1/1 [==============================] - 0s 53ms/step\n",
            "[[0.23234456777572632, 0.0019265312002971768, 0.004992923233658075, 0.007039365358650684, 0.9520633220672607], [0.0001951001468114555, 0.08150306344032288, 0.9384457468986511, 0.019567733630537987, 0.0011752615682780743]]\n",
            "Predicted labels:\n",
            "tensorflow\n",
            "\n",
            "\n",
            "Predicted labels:\n",
            "pandas\n",
            "\n",
            "\n"
          ]
        }
      ]
    },
    {
      "cell_type": "code",
      "source": [
        "test_requests = [\n",
        "  \"How A Neural Network Function within a Baysian Optimization Function I made a neural network model that uses 4 inputs and 1 output to replace an original function that takes too long to compute. I want to use the trained neural network in place of the original function in a Baysian Optimization function. The original code I had just called the original function and gave it some inputs. I am trying to figure out how to use the neural network as a function within this function. Any help would be greatly appreciated! I'm thinking about just defining a new function that has the neural network's parameters and weights within it, but I'm not sure how to do that. I tried calling the model.predict() function, but then I get an error from the neural network library complaining that there are no inputs to the model.\"\n",
        "  \"How to extract exact matches with list from a dataframe column? I have a large dataframe with text that I want to use to find matches from a list of words (around 1k words in there). I have managed to get the absence/presence of the word from the list in the dataframe, but it is also important to me to know which word matched. Sometimes there is exact match with more than one word from the list, I would like to have them all. I tried to use the code below, but it gives me partial matches - syllables instead of full words.\"\n",
        "]"
      ],
      "metadata": {
        "id": "boguDhfGOtV4"
      },
      "execution_count": 72,
      "outputs": []
    },
    {
      "cell_type": "markdown",
      "source": [
        "# Package our model and deploy to AI platform"
      ],
      "metadata": {
        "id": "icHSDdqDfj4g"
      }
    },
    {
      "cell_type": "code",
      "source": [
        "%%writefile setup.py\n",
        "\n",
        "from setuptools import setup\n",
        "\n",
        "setup(\n",
        "  name=\"so_predict\",\n",
        "  version=\"0.1\",\n",
        "  include_package_data=True,\n",
        "  scripts=[\"preprocess.py\", \"model_prediction.py\"]\n",
        ")"
      ],
      "metadata": {
        "id": "t-CZWQ3zfjVV",
        "colab": {
          "base_uri": "https://localhost:8080/"
        },
        "outputId": "4481e2e4-26fa-46d4-e2c7-5cd0e5f14d6a"
      },
      "execution_count": 58,
      "outputs": [
        {
          "output_type": "stream",
          "name": "stdout",
          "text": [
            "Writing setup.py\n"
          ]
        }
      ]
    },
    {
      "cell_type": "code",
      "source": [
        "\n",
        "\n",
        "!gsutil cp keras_saved_model.h5 gs://your_gcs_bucket/\n",
        "!gsutil cp processor_state.pkl gs://your_gcs_bucket/"
      ],
      "metadata": {
        "id": "_gn5VQ60fhyL"
      },
      "execution_count": null,
      "outputs": []
    },
    {
      "cell_type": "code",
      "source": [
        "!python setup.py sdist\n",
        "!gsutil cp ./dist/so_predict-0.1.tar.gz gs://your_gcs_bucket/packages/so_predict-0.1.tar.gz"
      ],
      "metadata": {
        "id": "__uFxJ89ftuZ"
      },
      "execution_count": null,
      "outputs": []
    },
    {
      "cell_type": "code",
      "source": [
        "!gcloud config set project your-cloud-project"
      ],
      "metadata": {
        "id": "qPQUAQI1fwvE"
      },
      "execution_count": null,
      "outputs": []
    },
    {
      "cell_type": "code",
      "source": [
        "!gcloud ml-engine models create your_model_name"
      ],
      "metadata": {
        "id": "k4PmRYyFf1xW"
      },
      "execution_count": null,
      "outputs": []
    },
    {
      "cell_type": "code",
      "source": [],
      "metadata": {
        "id": "fTPJuPiXf2Yx"
      },
      "execution_count": null,
      "outputs": []
    },
    {
      "cell_type": "markdown",
      "source": [
        "# Interpreting our model with SHAP"
      ],
      "metadata": {
        "id": "6rRYzgeMgB_O"
      }
    },
    {
      "cell_type": "code",
      "source": [
        "!pip install shap\n",
        "!pip install colored"
      ],
      "metadata": {
        "id": "7_dyFbxygBSc",
        "colab": {
          "base_uri": "https://localhost:8080/"
        },
        "outputId": "dcec00eb-5962-4721-f2cc-1bcc1419bbec"
      },
      "execution_count": 59,
      "outputs": [
        {
          "output_type": "stream",
          "name": "stdout",
          "text": [
            "Looking in indexes: https://pypi.org/simple, https://us-python.pkg.dev/colab-wheels/public/simple/\n",
            "Collecting shap\n",
            "  Downloading shap-0.41.0-cp39-cp39-manylinux_2_12_x86_64.manylinux2010_x86_64.whl (572 kB)\n",
            "\u001b[2K     \u001b[90m━━━━━━━━━━━━━━━━━━━━━━━━━━━━━━━━━━━━━━\u001b[0m \u001b[32m572.4/572.4 KB\u001b[0m \u001b[31m39.3 MB/s\u001b[0m eta \u001b[36m0:00:00\u001b[0m\n",
            "\u001b[?25hRequirement already satisfied: pandas in /usr/local/lib/python3.9/dist-packages (from shap) (1.4.4)\n",
            "Requirement already satisfied: scipy in /usr/local/lib/python3.9/dist-packages (from shap) (1.10.1)\n",
            "Requirement already satisfied: scikit-learn in /usr/local/lib/python3.9/dist-packages (from shap) (1.2.2)\n",
            "Requirement already satisfied: numpy in /usr/local/lib/python3.9/dist-packages (from shap) (1.22.4)\n",
            "Requirement already satisfied: tqdm>4.25.0 in /usr/local/lib/python3.9/dist-packages (from shap) (4.65.0)\n",
            "Collecting slicer==0.0.7\n",
            "  Downloading slicer-0.0.7-py3-none-any.whl (14 kB)\n",
            "Requirement already satisfied: numba in /usr/local/lib/python3.9/dist-packages (from shap) (0.56.4)\n",
            "Requirement already satisfied: packaging>20.9 in /usr/local/lib/python3.9/dist-packages (from shap) (23.0)\n",
            "Requirement already satisfied: cloudpickle in /usr/local/lib/python3.9/dist-packages (from shap) (2.2.1)\n",
            "Requirement already satisfied: setuptools in /usr/local/lib/python3.9/dist-packages (from numba->shap) (67.6.1)\n",
            "Requirement already satisfied: llvmlite<0.40,>=0.39.0dev0 in /usr/local/lib/python3.9/dist-packages (from numba->shap) (0.39.1)\n",
            "Requirement already satisfied: pytz>=2020.1 in /usr/local/lib/python3.9/dist-packages (from pandas->shap) (2022.7.1)\n",
            "Requirement already satisfied: python-dateutil>=2.8.1 in /usr/local/lib/python3.9/dist-packages (from pandas->shap) (2.8.2)\n",
            "Requirement already satisfied: threadpoolctl>=2.0.0 in /usr/local/lib/python3.9/dist-packages (from scikit-learn->shap) (3.1.0)\n",
            "Requirement already satisfied: joblib>=1.1.1 in /usr/local/lib/python3.9/dist-packages (from scikit-learn->shap) (1.1.1)\n",
            "Requirement already satisfied: six>=1.5 in /usr/local/lib/python3.9/dist-packages (from python-dateutil>=2.8.1->pandas->shap) (1.16.0)\n",
            "Installing collected packages: slicer, shap\n",
            "Successfully installed shap-0.41.0 slicer-0.0.7\n",
            "Looking in indexes: https://pypi.org/simple, https://us-python.pkg.dev/colab-wheels/public/simple/\n",
            "Collecting colored\n",
            "  Downloading colored-1.4.4.tar.gz (36 kB)\n",
            "  Preparing metadata (setup.py) ... \u001b[?25l\u001b[?25hdone\n",
            "Building wheels for collected packages: colored\n",
            "  Building wheel for colored (setup.py) ... \u001b[?25l\u001b[?25hdone\n",
            "  Created wheel for colored: filename=colored-1.4.4-py3-none-any.whl size=14268 sha256=a9584faae1b782c4f05e63d2b6961f5022dd2b6add304954a8ad29e373fd99ab\n",
            "  Stored in directory: /root/.cache/pip/wheels/7a/f5/27/54cfa98930f018369067d8d02e508e053b1fec3704c258916b\n",
            "Successfully built colored\n",
            "Installing collected packages: colored\n",
            "Successfully installed colored-1.4.4\n"
          ]
        }
      ]
    },
    {
      "cell_type": "code",
      "source": [
        "import shap\n",
        "attrib_data = body_train[:200]\n",
        "explainer = shap.DeepExplainer(model, attrib_data)\n",
        "\n",
        "num_explanations = 25\n",
        "shap_vals = explainer.shap_values(body_test[:num_explanations])"
      ],
      "metadata": {
        "id": "1IPLy1QFgGD-"
      },
      "execution_count": 62,
      "outputs": []
    },
    {
      "cell_type": "code",
      "source": [
        "words = processor._tokenizer.word_index"
      ],
      "metadata": {
        "id": "CYJf6lcehmHB"
      },
      "execution_count": 63,
      "outputs": []
    },
    {
      "cell_type": "code",
      "source": [
        "word_lookup = list()\n",
        "for i in words.keys():\n",
        "  word_lookup.append(i)\n",
        "\n",
        "word_lookup = [''] + word_lookup\n",
        "print(word_lookup[:100])"
      ],
      "metadata": {
        "id": "WMDsA1aihoFr",
        "colab": {
          "base_uri": "https://localhost:8080/"
        },
        "outputId": "2690af7f-0d6f-4cd4-e9ca-65e1f4d0af30"
      },
      "execution_count": 64,
      "outputs": [
        {
          "output_type": "stream",
          "name": "stdout",
          "text": [
            "['', '0', 'the', 'apple', 'i', '1', 'to', 'a', 'in', 'quot', '2', 'and', 'is', 'of', '3', 'for', 'df', 'data', 'x', 'this', 'with', 'as', '5', 'model', 'gt', 'from', '4', 'import', 'it', 'dataframe', 'have', 'that', 'y', '00', \"'\", 'self', 'but', '10', 'file', 'my', 'on', 'how', 'if', 'np', '01', 'not', 'column', 'train', '6', 'lt', 'nan', 'python', 'get', '7', 'be', 'like', 'name', 'code', 'values', 'using', 'am', 'input', 'c', 'index', 'columns', 'value', 'line', 'py', 'can', '8', 'size', 'test', 'print', 'true', 'b', 'do', 'want', 'so', 'error', 'output', 'shape', '12', 'are', 'lib', 'plot', 'list', 'set', 'return', 'an', '9', 'add', 'time', 'packages', 'or', 'all', 'row', '11', 'use', 'by', 'would']\n"
          ]
        }
      ]
    },
    {
      "cell_type": "code",
      "source": [
        "shap.summary_plot(shap_vals, feature_names=word_lookup, class_names=tag_encoder.classes_)"
      ],
      "metadata": {
        "id": "ZsLlG9HChpy2",
        "colab": {
          "base_uri": "https://localhost:8080/",
          "height": 957
        },
        "outputId": "0607bd6f-c61c-4eaf-d452-f7b823cf4404"
      },
      "execution_count": 65,
      "outputs": [
        {
          "output_type": "display_data",
          "data": {
            "text/plain": [
              "<Figure size 800x950 with 1 Axes>"
            ],
            "image/png": "[encoded data removed]"
          },
          "metadata": {}
        }
      ]
    },
    {
      "cell_type": "code",
      "source": [
        "import colored\n",
        "import re \n",
        "def colorprint(question, pos, neg):\n",
        "  # Split question string on multiple chars\n",
        "  q_arr = []\n",
        "  q_filtered = filter(None,re.split(\"[, .()]+\", question))\n",
        "  for i in q_filtered:\n",
        "    q_arr.append(i)\n",
        "\n",
        "  color_str = []\n",
        "  for idx,word in enumerate(q_arr):\n",
        "    if word in pos:\n",
        "      color_str.append(colored.fg(\"blue\") + word)\n",
        "    elif word in neg:\n",
        "      color_str.append(colored.fg(\"light_red\") + word)\n",
        "    else:\n",
        "      color_str.append(colored.fg('black') + word)\n",
        "\n",
        "    # For wrapped printing\n",
        "    if idx % 15 == 0 and idx > 0:\n",
        "      color_str.append('\\n')\n",
        "\n",
        "  print(' '.join(color_str) + colored.fg('black') + \" \")"
      ],
      "metadata": {
        "id": "bPDgg4fQhr-4"
      },
      "execution_count": 66,
      "outputs": []
    },
    {
      "cell_type": "code",
      "source": [
        "# Print highlighted signal words for a few questions\n",
        "examples_to_print = [0,7,20,22,24]\n",
        "\n",
        "for i in range(len(examples_to_print)):\n",
        "  \n",
        "  # Print the actual labels\n",
        "  actual = test_tags[examples_to_print[i]]\n",
        "  num_labels = np.sum(actual)\n",
        "\n",
        "  actual_labels = np.argpartition(actual, -num_labels)[-num_labels:]\n",
        "  \n",
        "  # Print the predicted labels\n",
        "  print('Predicted labels:')\n",
        "  pred_tag = model.predict([[body_test[examples_to_print[i]]]])\n",
        "  for idx,tagprob in enumerate(pred_tag[0]):\n",
        "    if tagprob > 0.8:\n",
        "      print(tag_encoder.classes_[idx])\n",
        "  print('\\n')\n",
        "\n",
        "  # Get the highest and lowest signaling words\n",
        "  for idx,tag in enumerate(pred_tag[0]):\n",
        "    if tag > 0.7:\n",
        "      attributions = shap_vals[idx][examples_to_print[i]]\n",
        "      top_signal_words = np.argpartition(attributions, -5)[-5:]\n",
        "      pos_words = []\n",
        "      for word_idx in top_signal_words:\n",
        "        signal_wd = word_lookup[word_idx]\n",
        "        pos_words.append(signal_wd)\n",
        "\n",
        "      negative_signal_words = np.argpartition(attributions, 5)[:5]\n",
        "      neg_words = []\n",
        "      for word_idx in negative_signal_words:\n",
        "        signal_wd = word_lookup[word_idx]\n",
        "        neg_words.append(signal_wd)\n",
        "      colorprint(test_qs[examples_to_print[i]],pos_words, neg_words)\n",
        "  print('\\n')"
      ],
      "metadata": {
        "id": "cCGtKRWnhwcu",
        "colab": {
          "base_uri": "https://localhost:8080/",
          "height": 836
        },
        "outputId": "8cd3f9d1-88be-420a-ef2c-f6b819836669"
      },
      "execution_count": 67,
      "outputs": [
        {
          "output_type": "stream",
          "name": "stdout",
          "text": [
            "Predicted labels:\n"
          ]
        },
        {
          "output_type": "error",
          "ename": "ValueError",
          "evalue": "ignored",
          "traceback": [
            "\u001b[0;31m---------------------------------------------------------------------------\u001b[0m",
            "\u001b[0;31mValueError\u001b[0m                                Traceback (most recent call last)",
            "\u001b[0;32m<ipython-input-67-f6bb78129a1b>\u001b[0m in \u001b[0;36m<cell line: 4>\u001b[0;34m()\u001b[0m\n\u001b[1;32m     12\u001b[0m   \u001b[0;31m# Print the predicted labels\u001b[0m\u001b[0;34m\u001b[0m\u001b[0;34m\u001b[0m\u001b[0m\n\u001b[1;32m     13\u001b[0m   \u001b[0mprint\u001b[0m\u001b[0;34m(\u001b[0m\u001b[0;34m'Predicted labels:'\u001b[0m\u001b[0;34m)\u001b[0m\u001b[0;34m\u001b[0m\u001b[0;34m\u001b[0m\u001b[0m\n\u001b[0;32m---> 14\u001b[0;31m   \u001b[0mpred_tag\u001b[0m \u001b[0;34m=\u001b[0m \u001b[0mmodel\u001b[0m\u001b[0;34m.\u001b[0m\u001b[0mpredict\u001b[0m\u001b[0;34m(\u001b[0m\u001b[0;34m[\u001b[0m\u001b[0;34m[\u001b[0m\u001b[0mbody_test\u001b[0m\u001b[0;34m[\u001b[0m\u001b[0mexamples_to_print\u001b[0m\u001b[0;34m[\u001b[0m\u001b[0mi\u001b[0m\u001b[0;34m]\u001b[0m\u001b[0;34m]\u001b[0m\u001b[0;34m]\u001b[0m\u001b[0;34m]\u001b[0m\u001b[0;34m)\u001b[0m\u001b[0;34m\u001b[0m\u001b[0;34m\u001b[0m\u001b[0m\n\u001b[0m\u001b[1;32m     15\u001b[0m   \u001b[0;32mfor\u001b[0m \u001b[0midx\u001b[0m\u001b[0;34m,\u001b[0m\u001b[0mtagprob\u001b[0m \u001b[0;32min\u001b[0m \u001b[0menumerate\u001b[0m\u001b[0;34m(\u001b[0m\u001b[0mpred_tag\u001b[0m\u001b[0;34m[\u001b[0m\u001b[0;36m0\u001b[0m\u001b[0;34m]\u001b[0m\u001b[0;34m)\u001b[0m\u001b[0;34m:\u001b[0m\u001b[0;34m\u001b[0m\u001b[0;34m\u001b[0m\u001b[0m\n\u001b[1;32m     16\u001b[0m     \u001b[0;32mif\u001b[0m \u001b[0mtagprob\u001b[0m \u001b[0;34m>\u001b[0m \u001b[0;36m0.8\u001b[0m\u001b[0;34m:\u001b[0m\u001b[0;34m\u001b[0m\u001b[0;34m\u001b[0m\u001b[0m\n",
            "\u001b[0;32m/usr/local/lib/python3.9/dist-packages/keras/utils/traceback_utils.py\u001b[0m in \u001b[0;36merror_handler\u001b[0;34m(*args, **kwargs)\u001b[0m\n\u001b[1;32m     68\u001b[0m             \u001b[0;31m# To get the full stack trace, call:\u001b[0m\u001b[0;34m\u001b[0m\u001b[0;34m\u001b[0m\u001b[0m\n\u001b[1;32m     69\u001b[0m             \u001b[0;31m# `tf.debugging.disable_traceback_filtering()`\u001b[0m\u001b[0;34m\u001b[0m\u001b[0;34m\u001b[0m\u001b[0m\n\u001b[0;32m---> 70\u001b[0;31m             \u001b[0;32mraise\u001b[0m \u001b[0me\u001b[0m\u001b[0;34m.\u001b[0m\u001b[0mwith_traceback\u001b[0m\u001b[0;34m(\u001b[0m\u001b[0mfiltered_tb\u001b[0m\u001b[0;34m)\u001b[0m \u001b[0;32mfrom\u001b[0m \u001b[0;32mNone\u001b[0m\u001b[0;34m\u001b[0m\u001b[0;34m\u001b[0m\u001b[0m\n\u001b[0m\u001b[1;32m     71\u001b[0m         \u001b[0;32mfinally\u001b[0m\u001b[0;34m:\u001b[0m\u001b[0;34m\u001b[0m\u001b[0;34m\u001b[0m\u001b[0m\n\u001b[1;32m     72\u001b[0m             \u001b[0;32mdel\u001b[0m \u001b[0mfiltered_tb\u001b[0m\u001b[0;34m\u001b[0m\u001b[0;34m\u001b[0m\u001b[0m\n",
            "\u001b[0;32m/usr/local/lib/python3.9/dist-packages/keras/engine/training.py\u001b[0m in \u001b[0;36mtf__predict_function\u001b[0;34m(iterator)\u001b[0m\n\u001b[1;32m     13\u001b[0m                 \u001b[0;32mtry\u001b[0m\u001b[0;34m:\u001b[0m\u001b[0;34m\u001b[0m\u001b[0;34m\u001b[0m\u001b[0m\n\u001b[1;32m     14\u001b[0m                     \u001b[0mdo_return\u001b[0m \u001b[0;34m=\u001b[0m \u001b[0;32mTrue\u001b[0m\u001b[0;34m\u001b[0m\u001b[0;34m\u001b[0m\u001b[0m\n\u001b[0;32m---> 15\u001b[0;31m                     \u001b[0mretval_\u001b[0m \u001b[0;34m=\u001b[0m \u001b[0mag__\u001b[0m\u001b[0;34m.\u001b[0m\u001b[0mconverted_call\u001b[0m\u001b[0;34m(\u001b[0m\u001b[0mag__\u001b[0m\u001b[0;34m.\u001b[0m\u001b[0mld\u001b[0m\u001b[0;34m(\u001b[0m\u001b[0mstep_function\u001b[0m\u001b[0;34m)\u001b[0m\u001b[0;34m,\u001b[0m \u001b[0;34m(\u001b[0m\u001b[0mag__\u001b[0m\u001b[0;34m.\u001b[0m\u001b[0mld\u001b[0m\u001b[0;34m(\u001b[0m\u001b[0mself\u001b[0m\u001b[0;34m)\u001b[0m\u001b[0;34m,\u001b[0m \u001b[0mag__\u001b[0m\u001b[0;34m.\u001b[0m\u001b[0mld\u001b[0m\u001b[0;34m(\u001b[0m\u001b[0miterator\u001b[0m\u001b[0;34m)\u001b[0m\u001b[0;34m)\u001b[0m\u001b[0;34m,\u001b[0m \u001b[0;32mNone\u001b[0m\u001b[0;34m,\u001b[0m \u001b[0mfscope\u001b[0m\u001b[0;34m)\u001b[0m\u001b[0;34m\u001b[0m\u001b[0;34m\u001b[0m\u001b[0m\n\u001b[0m\u001b[1;32m     16\u001b[0m                 \u001b[0;32mexcept\u001b[0m\u001b[0;34m:\u001b[0m\u001b[0;34m\u001b[0m\u001b[0;34m\u001b[0m\u001b[0m\n\u001b[1;32m     17\u001b[0m                     \u001b[0mdo_return\u001b[0m \u001b[0;34m=\u001b[0m \u001b[0;32mFalse\u001b[0m\u001b[0;34m\u001b[0m\u001b[0;34m\u001b[0m\u001b[0m\n",
            "\u001b[0;31mValueError\u001b[0m: in user code:\n\n    File \"/usr/local/lib/python3.9/dist-packages/keras/engine/training.py\", line 2169, in predict_function  *\n        return step_function(self, iterator)\n    File \"/usr/local/lib/python3.9/dist-packages/keras/engine/training.py\", line 2155, in step_function  **\n        outputs = model.distribute_strategy.run(run_step, args=(data,))\n    File \"/usr/local/lib/python3.9/dist-packages/keras/engine/training.py\", line 2143, in run_step  **\n        outputs = model.predict_step(data)\n    File \"/usr/local/lib/python3.9/dist-packages/keras/engine/training.py\", line 2111, in predict_step\n        return self(x, training=False)\n    File \"/usr/local/lib/python3.9/dist-packages/keras/utils/traceback_utils.py\", line 70, in error_handler\n        raise e.with_traceback(filtered_tb) from None\n    File \"/usr/local/lib/python3.9/dist-packages/keras/engine/input_spec.py\", line 253, in assert_input_compatibility\n        raise ValueError(\n\n    ValueError: Exception encountered when calling layer 'sequential_1' (type Sequential).\n    \n    Input 0 of layer \"dense_3\" is incompatible with the layer: expected min_ndim=2, found ndim=1. Full shape received: (None,)\n    \n    Call arguments received by layer 'sequential_1' (type Sequential):\n      • inputs=(('tf.Tensor(shape=(None,), dtype=float32)',),)\n      • training=False\n      • mask=None\n"
          ]
        }
      ]
    }
  ]
}